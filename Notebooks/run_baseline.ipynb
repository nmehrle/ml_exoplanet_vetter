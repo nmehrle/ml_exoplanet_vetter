{
 "cells": [
  {
   "cell_type": "code",
   "execution_count": 1,
   "metadata": {
    "ExecuteTime": {
     "end_time": "2020-05-07T02:31:54.020579Z",
     "start_time": "2020-05-07T02:31:53.949323Z"
    }
   },
   "outputs": [],
   "source": [
    "%load_ext autoreload\n",
    "%autoreload 2\n",
    "%matplotlib notebook"
   ]
  },
  {
   "cell_type": "code",
   "execution_count": 2,
   "metadata": {
    "ExecuteTime": {
     "end_time": "2020-05-07T02:31:56.556391Z",
     "start_time": "2020-05-07T02:31:55.224433Z"
    },
    "scrolled": true
   },
   "outputs": [],
   "source": [
    "import numpy as np\n",
    "import os, sys\n",
    "import pickle\n",
    "sys.path.append('..')\n",
    "from baseline import *\n",
    "import matplotlib.pyplot as plt\n",
    "\n",
    "from sklearn.ensemble import RandomForestClassifier\n",
    "from sklearn.model_selection import KFold, train_test_split\n",
    "from sklearn.utils import resample\n",
    "from sklearn import linear_model\n",
    "\n",
    "from tqdm import tqdm_notebook as tqdm"
   ]
  },
  {
   "cell_type": "code",
   "execution_count": 3,
   "metadata": {
    "ExecuteTime": {
     "end_time": "2020-05-07T02:32:46.682052Z",
     "start_time": "2020-05-07T02:31:56.879810Z"
    },
    "scrolled": true
   },
   "outputs": [
    {
     "data": {
      "application/vnd.jupyter.widget-view+json": {
       "model_id": "123b1d8c9ec04f72bd92276c4e1b921d",
       "version_major": 2,
       "version_minor": 0
      },
      "text/plain": [
       "HBox(children=(IntProgress(value=0, max=21), HTML(value='')))"
      ]
     },
     "metadata": {},
     "output_type": "display_data"
    },
    {
     "name": "stdout",
     "output_type": "stream",
     "text": [
      "\n",
      "X_global.shape =  (248392, 3, 201)\n",
      "X_local.shape  =  (248392, 3, 61)\n",
      "X_depths.shape =  (248392, 6)\n",
      "y.shape        =  (248392,)\n"
     ]
    }
   ],
   "source": [
    "pickleDir = \"/nfs/blank/h4244/nmehrle/code/ml_exoplanet_vetter/Data/2020_05_updatedLC/\"\n",
    "\n",
    "sectors = [f'sector-{i}' for i in range(1,22)]\n",
    "labels, localviews, globalviews, depths, depth_err, std_depths, astronets, srad, tmag = loadSortedData(pickleDir, sectors)"
   ]
  },
  {
   "cell_type": "code",
   "execution_count": 65,
   "metadata": {
    "ExecuteTime": {
     "end_time": "2020-05-07T03:13:47.650118Z",
     "start_time": "2020-05-07T03:13:47.436086Z"
    }
   },
   "outputs": [],
   "source": [
    "X, y = genDataMatrix(labels, std_depths, astronets, tmag)\n",
    "Xm, ym = magnitudeCut(X, y, tmag, 10.5)"
   ]
  },
  {
   "cell_type": "code",
   "execution_count": 66,
   "metadata": {
    "ExecuteTime": {
     "end_time": "2020-05-07T03:15:34.725336Z",
     "start_time": "2020-05-07T03:14:16.791221Z"
    }
   },
   "outputs": [
    {
     "name": "stdout",
     "output_type": "stream",
     "text": [
      "Random Forest\n",
      "1 / 5 10\n",
      "2 / 5 10\n",
      "3 / 5 10\n",
      "4 / 5 10\n",
      "5 / 5 10\n",
      "---\n",
      "1 / 5 10\n",
      "2 / 5 10\n",
      "3 / 5 10\n",
      "4 / 5 10\n",
      "5 / 5 10\n",
      "---\n"
     ]
    }
   ],
   "source": [
    "print('Random Forest')\n",
    "\n",
    "depthRes=[]\n",
    "for data,label in zip((X,Xm),(y,ym)):\n",
    "  res = testModel(data,label,RFModel, None ,10)\n",
    "  depthRes.append(res)\n",
    "  print('---')"
   ]
  },
  {
   "cell_type": "code",
   "execution_count": 67,
   "metadata": {
    "ExecuteTime": {
     "end_time": "2020-05-07T03:15:50.413308Z",
     "start_time": "2020-05-07T03:15:49.816290Z"
    }
   },
   "outputs": [
    {
     "name": "stdout",
     "output_type": "stream",
     "text": [
      "1038 - True Positive, 247354 - True Negative\n",
      "Feature Importances\n",
      "[0.43373515 0.15440927 0.11889416 0.29391309]\n",
      "[0.26804095 0.17967155 0.24797096 0.3025225 ]\n"
     ]
    },
    {
     "name": "stderr",
     "output_type": "stream",
     "text": [
      "../baseline.py:210: RuntimeWarning: invalid value encountered in long_scalars\n",
      "  return true_pos / (true_pos + false_pos)\n"
     ]
    },
    {
     "data": {
      "image/png": "[encoded data removed]",
      "text/plain": [
       "<Figure size 432x288 with 1 Axes>"
      ]
     },
     "metadata": {},
     "output_type": "display_data"
    }
   ],
   "source": [
    "interpretModel(y, *depthRes)"
   ]
  }
 ],
 "metadata": {
  "hide_input": false,
  "kernelspec": {
   "display_name": "Python 3",
   "language": "python",
   "name": "python3"
  },
  "language_info": {
   "codemirror_mode": {
    "name": "ipython",
    "version": 3
   },
   "file_extension": ".py",
   "mimetype": "text/x-python",
   "name": "python",
   "nbconvert_exporter": "python",
   "pygments_lexer": "ipython3",
   "version": "3.7.3"
  },
  "latex_envs": {
   "LaTeX_envs_menu_present": true,
   "autoclose": false,
   "autocomplete": true,
   "bibliofile": "biblio.bib",
   "cite_by": "apalike",
   "current_citInitial": 1,
   "eqLabelWithNumbers": true,
   "eqNumInitial": 1,
   "hotkeys": {
    "equation": "Ctrl-E",
    "itemize": "Ctrl-I"
   },
   "labels_anchors": false,
   "latex_user_defs": false,
   "report_style_numbering": false,
   "user_envs_cfg": false
  }
 },
 "nbformat": 4,
 "nbformat_minor": 2
}
